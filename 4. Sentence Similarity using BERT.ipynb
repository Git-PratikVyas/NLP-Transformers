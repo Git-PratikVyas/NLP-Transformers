{
    "nbformat": 4,
    "nbformat_minor": 0,
    "metadata": {
        "colab": {
            "name": "4. Sentence Similarity using BERT.ipynb",
            "provenance": [],
            "authorship_tag": "ABX9TyOkWPc+BAsOvZL6BhhrN25f"
        },
        "kernelspec": {
            "name": "python3",
            "display_name": "Python 3"
        },
        "language_info": {
            "name": "python"
        }
       
        
    },
    "cells": [
        {
            "cell_type": "markdown",
            "source": [
                "Sentence Similarity is used in tasks like  computing similarity between two sentences, sentence pair classification and so on.\n",
                "\n",
                "We know [CLS] tokon is a aggregated representation of input sequence so we can use it as sentence representation but this representation is not accurate if we use pre-trained model. \n",
                "\n",
                "So instead of using [CLS] token we can compute representation by pooling.\n",
                "\n",
                "There are mainly two pooling mechanism\n",
                "1. mean pooling : It is computed by applying mean pooling to all token reprentation, Hence it hold meaning of all tokens\n",
                "2. max pooling :  It is computed by applying max pooling to all token reprentation. It hold meaning of important words.\n",
                "\n",
                "\n"
            ],
            "metadata": {
                "id": "WXPbtGZ1-wDu"
            }
        },
        {
            "cell_type": "code",
            "source": [
                "## install hugging face tranformers lib. and torch lib.\n",
                "!pip install transformers==3.5.1\n",
                "!pip install torch==1.4.0\n",
                "!pip install sentence_transformers"
            ],
            "metadata": {
                "id": "XRnwp-X0BVH4"
            },
            "execution_count": null,
            "outputs": []
        },
        {
            "cell_type": "markdown",
            "source": [
                "## **Computing sentence representation using Sentence-BERT**"
            ],
            "metadata": {
                "id": "l_z7J-KhCaw-"
            }
        },
        {
            "cell_type": "code",
            "source": [
                "from sentence_transformers import SentenceTransformer,util\n"
            ],
            "metadata": {
                "id": "ZrfU7LsYCkHe",
                "executionInfo": {
                    "status": "ok",
                    "timestamp": 1641199567444,
                    "user_tz": -330,
                    "elapsed": 4,
                    "user": {
                        "displayName": "Pratik Pratik",
                        "photoUrl": "https://lh3.googleusercontent.com/a/default-user=s64",
                        "userId": "12834565355061124660"
                    }
                }
            },
            "execution_count": 17,
            "outputs": []
        },
        {
            "cell_type": "code",
            "source": [
                "# Pre-trained BERT model  \n",
                "Model_Name=\"bert-base-nli-mean-tokens\"\n",
                "\n",
                "model=SentenceTransformer(Model_Name)"
            ],
            "metadata": {
                "colab": {
                    "base_uri": "https://localhost:8080/",
                    "height": 433,
                    "referenced_widgets": [
                        "8647ac38fbfc4f15ba9b19575b20dc9c",
                        "e5739f301f70490b97b17cdf5855432b",
                        "7ad277a24efe487dbdf7d3433b4eda53",
                        "ec28f61b88ad45aea553a6db41206e58",
                        "66170b166f114b4681fe56bd5c124810",
                        "08512f257c9941e9a54ae032e2355211",
                        "751ae6633a8a47a487e569b098b74926",
                        "f44ff54b77aa49efbbf54b167c0ed5d5",
                        "b49e925e111d4f5d959c3cfbac1b1634",
                        "0ec275e559ae45a7b171237406f87cda",
                        "3e8b8ae3d4a646d6bd8401f4a664f279",
                        "a95d56124ccd408fb6680a6bbba77ccb",
                        "22d92cc17ad14b408fd76fc43ff69d24",
                        "6871aee03d0a4c40a0c5c490da42bfec",
                        "6915307dc45b44daa1714b5bf2fea5d3",
                        "56e4542550c84cc4ae727e38a998079b",
                        "917b3862bbb64dbf833988b351c6dae3",
                        "6460e80f79874ecbaa6c3aa9ab033447",
                        "0aea35d5f0ce4ea49d13429247cc4c3a",
                        "c0b01174bcb247dba96f78faf69bdbf1",
                        "8ccd2a3cbd6942b192f83cd41b9f377d",
                        "1c14619a5c9e496b9ec6d70f8c3f5eed",
                        "ce8ca799acdd40418ff0ad76f6cc2407",
                        "e91d26ff6fc24e1a83eafeb691a07317",
                        "7e4162eb9dea4de2aeeafb13935b04c5",
                        "ca9dd0209b3f472081cd6649c9e53498",
                        "9da3e6bd763045659c47a0ea6d5f6e84",
                        "2ca82c4dfd0b406783a485870c1e98f0",
                        "4085a5b4aa264ef1b9cd8148991371ab",
                        "0052974cdc334d009144bed53e5f966d",
                        "2e88277548b04516a6f4f233b7888d95",
                        "1227df7e764c41cda99b7f57e6c5a4c3",
                        "8e83952784ac4cc58e143296f286e352",
                        "e44922027517437d886956114ea53ffe",
                        "ab2d5b0db6fe4f798c1b2689a54492a9",
                        "7ae9dd98799b44788c4b1509b237732e",
                        "bcf917a792ef4846ac866446d3965c93",
                        "2d2fc2116ab6431a9fae58aaebbde4d8",
                        "78f61243208048feb7095f126bb05509",
                        "dbac276facb24db8bf27ba9532b9535d",
                        "ab65b853db3c45eeaadd6edf5b6525a4",
                        "48611a675d0c4086ae18e34e59f8ea34",
                        "e3aa2f53e7ea448f816619de4d979f1f",
                        "a21fcd2087c14991a68d24fe58a95f34",
                        "e8d6aa731a21415d8c9f86783f043d86",
                        "bda1c4186031417e8a09baf92614f772",
                        "cb63d2831bdd43caa8b699f43c16d888",
                        "2f39c1872ed745fe8b013f69dbc553aa",
                        "e7c64d905e7a45ee8a8216b449ed5d03",
                        "17bd5b6908584da2b21014e484da4c9b",
                        "2230efe0759a4f9592374bb28f4f1c16",
                        "aa35fa7861344ef8ac5df80f44562374",
                        "c458897a44754b1d960b81ff4c232acc",
                        "94c68add54454110bdb0d3ff2ea9339c",
                        "87e389bf9b794e94b2725dcca1f9c467",
                        "dcde00003ffd4128b095fe821b331207",
                        "09a62a8924fd474484c08ebe9e321d8d",
                        "6b7cb526720e4cd0b32de7284328e58c",
                        "2e11b15d8f4e4ea494fa41730521b922",
                        "3366edd075624c1c94a459dd4667bd0a",
                        "5777d3853ee4487a888709eabe09ad1c",
                        "37b101d15c054a5e8870285f34f0dac1",
                        "1a551834d796417c9941d42ac743e2f0",
                        "f810a5abfeaa464eb7ea9af0580bf06b",
                        "6d77f691abb9412ea8da1efc01a522bd",
                        "e92195f694e549fb8036982dfa80cea3",
                        "dd3fdbfef4794bf682a854362c39fc5b",
                        "ea6d13a2febc4116990e06b11baac156",
                        "62868e79cbd5498695c2b27f5575284f",
                        "7c6db96c519f484389fc841f6eedc213",
                        "45acfd4ee46a40679965ec6418f83d9d",
                        "40d3a6506b06401eb26ddd5459a2e271",
                        "e54655097b3641b58cad8923126b6795",
                        "67c07b2bb7234249b952c1d03dbb106e",
                        "9fa286fbe71d431f8b2e87f9aaf8b327",
                        "765385c19968458ebc736c4281896041",
                        "202114a3ead3452db07a5b67053c381e",
                        "88b2ba8a9bea439abfafc633cb228443",
                        "4729722230f24155a30c14ad6879c140",
                        "7139038fba68457b9e7db1343eb2f34e",
                        "49840aa8909c451a9e02065bd50ba91a",
                        "46987bafa0aa403aa9d95f7348aa6fe5",
                        "7051d8b024074cc19fa80f4efe0cf8b4",
                        "f1b15a97d5f143c7831656c797ee3fda",
                        "6f4ac4c506e34280b210a0f6d90c4917",
                        "cf2750a894004df089e944ee223d4d5d",
                        "3c9c9e7c60624ebc8e5128ba598a1359",
                        "25504152076849a1b17437d611c11cee",
                        "2768011c0c974304b8f30c316fa10076",
                        "0bc36f0eb541401d8d95f93e0d404194",
                        "18432956c51f4c91adbf7699cb47e7e5",
                        "c5883d42b68d4b68a11ae201d5382fbe",
                        "abd8cd9d97e848ae80ba39f30f4ee187",
                        "0012418df07144c0bd1cf4e550f32183",
                        "a62f39364f644781b38286229e995bb3",
                        "1f2eb18c8c5c47ba94b3035d467fd087",
                        "dc23a68f1ee14fa4a01260278275078f",
                        "a480f7cb1bdb4ffb87583ff85600b662",
                        "e62ad5853da94aca97b99b3bd9a0f953",
                        "5083a7a737bb4fae9874a101ad062003",
                        "4d79531ac36d4c2ab2dbc43f7c11af8f",
                        "c9507418b47d41cf8ca05f885e4fbb3e",
                        "2f78ff281e2f4ca99ebb4d2021918d6b",
                        "b4f384304640496889588ac82b0f3c37",
                        "ab7fe958c05f4b82bdaec9a520dfa37c",
                        "d3b3187ad6f948659ad4821e332f0565",
                        "64ca3242772e487e8e09f5756e4b6070",
                        "ccd9a1e569204d0b964e1f4f88a2474f",
                        "4cca1cdeb3624431959f44dd6540f739",
                        "4ce0d6430612471280494e8b26c7781a",
                        "90171e8f315b40df8745f3216a858e4c",
                        "1a824aa46fe24fb0baf9a5d1252c739b",
                        "feab8c3b5ead407d8b16805b63d2fed0",
                        "65d2b744cf744a508dcd079562415668",
                        "2acc2c4251b541ec96beafb2f73e1494",
                        "af62666a730046dea6f6300228c115b0",
                        "c3fb4a952efd44979e1cee37feba3d88",
                        "e952a017c9fb48738a36ab49bd80faf6",
                        "0a35918db3704fceb4b19b8906caec45",
                        "0d3d7ca4aca74c9f94dc282a833b1b20",
                        "f13d067039a948a7b77237684306df90",
                        "8de928938548442f92878c903958b1c4",
                        "9a76615c05c34b8d9b95fbfc2a2ce66c",
                        "82299939e91741b6acb35fc153fdecfb",
                        "4be4cb43b0474d79a83739e863a95eec",
                        "a4c2a8a5598648f28a164a5d63cb20ba",
                        "c70fa8769eae4aa98dbde8d6646ae903",
                        "0f7f84eff5f34cdfa8d45338b1449e5c",
                        "09b33538d65f4cc7984025cfbdba5c75",
                        "f9f2e2c17d1249dfa838d97eefcdcbe9",
                        "e712d1de092c45269311eff103608ce5",
                        "24b5791ed899459ea0cd30d58d5b13b5",
                        "00c3e0b1a9a245e682fc37006b5e86eb",
                        "6c3e4700289247f5972b97e2f1145338",
                        "a5412476246f4d3c8c7ed3acf581acd3",
                        "bfc8874ebc4e484fafe9dcd151576fd3",
                        "a9c9c968dbd8429e949725591da0f3ad",
                        "5f3a41f6517a4901af3b0f55975e6dd3",
                        "1da1c47ad04347259b80dfa54555dbc5",
                        "406c1e1cd56a47eeab6d1f4c53d1444e",
                        "548741194f8e40de9fc26263fc46e1a4",
                        "434478b90f5d4f569a7845fff6b9c444",
                        "f479981429eb4151b549e60c491efa07"
                    ]
                },
                "id": "_v3_e3oKE6Uh",
                "executionInfo": {
                    "status": "ok",
                    "timestamp": 1641198982805,
                    "user_tz": -330,
                    "elapsed": 43307,
                    "user": {
                        "displayName": "Pratik Pratik",
                        "photoUrl": "https://lh3.googleusercontent.com/a/default-user=s64",
                        "userId": "12834565355061124660"
                    }
                },
                "outputId": "5b270ef8-b079-4a9a-c867-1284cbbb348d"
            },
            "execution_count": 11,
            "outputs": [
                {
                    "output_type": "display_data",
                    "data": {
                        "application/vnd.jupyter.widget-view+json": {
                            "model_id": "8647ac38fbfc4f15ba9b19575b20dc9c",
                            "version_minor": 0,
                            "version_major": 2
                        },
                        "text/plain": [
                            "Downloading:   0%|          | 0.00/391 [00:00<?, ?B/s]"
                        ]
                    },
                    "metadata": {}
                },
                {
                    "output_type": "display_data",
                    "data": {
                        "application/vnd.jupyter.widget-view+json": {
                            "model_id": "a95d56124ccd408fb6680a6bbba77ccb",
                            "version_minor": 0,
                            "version_major": 2
                        },
                        "text/plain": [
                            "Downloading:   0%|          | 0.00/3.95k [00:00<?, ?B/s]"
                        ]
                    },
                    "metadata": {}
                },
                {
                    "output_type": "display_data",
                    "data": {
                        "application/vnd.jupyter.widget-view+json": {
                            "model_id": "ce8ca799acdd40418ff0ad76f6cc2407",
                            "version_minor": 0,
                            "version_major": 2
                        },
                        "text/plain": [
                            "Downloading:   0%|          | 0.00/2.00 [00:00<?, ?B/s]"
                        ]
                    },
                    "metadata": {}
                },
                {
                    "output_type": "display_data",
                    "data": {
                        "application/vnd.jupyter.widget-view+json": {
                            "model_id": "e44922027517437d886956114ea53ffe",
                            "version_minor": 0,
                            "version_major": 2
                        },
                        "text/plain": [
                            "Downloading:   0%|          | 0.00/625 [00:00<?, ?B/s]"
                        ]
                    },
                    "metadata": {}
                },
                {
                    "output_type": "display_data",
                    "data": {
                        "application/vnd.jupyter.widget-view+json": {
                            "model_id": "e8d6aa731a21415d8c9f86783f043d86",
                            "version_minor": 0,
                            "version_major": 2
                        },
                        "text/plain": [
                            "Downloading:   0%|          | 0.00/122 [00:00<?, ?B/s]"
                        ]
                    },
                    "metadata": {}
                },
                {
                    "output_type": "display_data",
                    "data": {
                        "application/vnd.jupyter.widget-view+json": {
                            "model_id": "dcde00003ffd4128b095fe821b331207",
                            "version_minor": 0,
                            "version_major": 2
                        },
                        "text/plain": [
                            "Downloading:   0%|          | 0.00/229 [00:00<?, ?B/s]"
                        ]
                    },
                    "metadata": {}
                },
                {
                    "output_type": "display_data",
                    "data": {
                        "application/vnd.jupyter.widget-view+json": {
                            "model_id": "dd3fdbfef4794bf682a854362c39fc5b",
                            "version_minor": 0,
                            "version_major": 2
                        },
                        "text/plain": [
                            "Downloading:   0%|          | 0.00/438M [00:00<?, ?B/s]"
                        ]
                    },
                    "metadata": {}
                },
                {
                    "output_type": "display_data",
                    "data": {
                        "application/vnd.jupyter.widget-view+json": {
                            "model_id": "88b2ba8a9bea439abfafc633cb228443",
                            "version_minor": 0,
                            "version_major": 2
                        },
                        "text/plain": [
                            "Downloading:   0%|          | 0.00/53.0 [00:00<?, ?B/s]"
                        ]
                    },
                    "metadata": {}
                },
                {
                    "output_type": "display_data",
                    "data": {
                        "application/vnd.jupyter.widget-view+json": {
                            "model_id": "2768011c0c974304b8f30c316fa10076",
                            "version_minor": 0,
                            "version_major": 2
                        },
                        "text/plain": [
                            "Downloading:   0%|          | 0.00/112 [00:00<?, ?B/s]"
                        ]
                    },
                    "metadata": {}
                },
                {
                    "output_type": "display_data",
                    "data": {
                        "application/vnd.jupyter.widget-view+json": {
                            "model_id": "5083a7a737bb4fae9874a101ad062003",
                            "version_minor": 0,
                            "version_major": 2
                        },
                        "text/plain": [
                            "Downloading:   0%|          | 0.00/466k [00:00<?, ?B/s]"
                        ]
                    },
                    "metadata": {}
                },
                {
                    "output_type": "display_data",
                    "data": {
                        "application/vnd.jupyter.widget-view+json": {
                            "model_id": "90171e8f315b40df8745f3216a858e4c",
                            "version_minor": 0,
                            "version_major": 2
                        },
                        "text/plain": [
                            "Downloading:   0%|          | 0.00/399 [00:00<?, ?B/s]"
                        ]
                    },
                    "metadata": {}
                },
                {
                    "output_type": "display_data",
                    "data": {
                        "application/vnd.jupyter.widget-view+json": {
                            "model_id": "8de928938548442f92878c903958b1c4",
                            "version_minor": 0,
                            "version_major": 2
                        },
                        "text/plain": [
                            "Downloading:   0%|          | 0.00/232k [00:00<?, ?B/s]"
                        ]
                    },
                    "metadata": {}
                },
                {
                    "output_type": "display_data",
                    "data": {
                        "application/vnd.jupyter.widget-view+json": {
                            "model_id": "00c3e0b1a9a245e682fc37006b5e86eb",
                            "version_minor": 0,
                            "version_major": 2
                        },
                        "text/plain": [
                            "Downloading:   0%|          | 0.00/190 [00:00<?, ?B/s]"
                        ]
                    },
                    "metadata": {}
                }
            ]
        },
        {
            "cell_type": "code",
            "source": [
                "input_sentence=\"I love NLP\""
            ],
            "metadata": {
                "id": "dFRUL3tpEy5V",
                "executionInfo": {
                    "status": "ok",
                    "timestamp": 1641198889680,
                    "user_tz": -330,
                    "elapsed": 6,
                    "user": {
                        "displayName": "Pratik Pratik",
                        "photoUrl": "https://lh3.googleusercontent.com/a/default-user=s64",
                        "userId": "12834565355061124660"
                    }
                }
            },
            "execution_count": 8,
            "outputs": []
        },
        {
            "cell_type": "code",
            "source": [
                "sen_representation=model.encode(input_sentence)"
            ],
            "metadata": {
                "id": "m1pF3hToFD1e",
                "executionInfo": {
                    "status": "ok",
                    "timestamp": 1641199184902,
                    "user_tz": -330,
                    "elapsed": 505,
                    "user": {
                        "displayName": "Pratik Pratik",
                        "photoUrl": "https://lh3.googleusercontent.com/a/default-user=s64",
                        "userId": "12834565355061124660"
                    }
                }
            },
            "execution_count": 12,
            "outputs": []
        },
        {
            "cell_type": "code",
            "source": [
                "sen_representation.shape"
            ],
            "metadata": {
                "colab": {
                    "base_uri": "https://localhost:8080/"
                },
                "id": "tCVm3WFwGCTV",
                "executionInfo": {
                    "status": "ok",
                    "timestamp": 1641199204303,
                    "user_tz": -330,
                    "elapsed": 494,
                    "user": {
                        "displayName": "Pratik Pratik",
                        "photoUrl": "https://lh3.googleusercontent.com/a/default-user=s64",
                        "userId": "12834565355061124660"
                    }
                },
                "outputId": "f023d064-5644-4560-97f6-3e3310622da4"
            },
            "execution_count": 14,
            "outputs": [
                {
                    "output_type": "execute_result",
                    "data": {
                        "text/plain": [
                            "(768,)"
                        ]
                    },
                    "metadata": {},
                    "execution_count": 14
                }
            ]
        },
        {
            "cell_type": "markdown",
            "source": [
                "## **Check similarity between two sentences**\n",
                "\n",
                "\n"
            ],
            "metadata": {
                "id": "lU1NX5nGGXXe"
            }
        },
        {
            "cell_type": "code",
            "source": [
                "input_sentence1=\"I love NLP\"\n",
                "input_sentence2=\"AI is awesome!!\""
            ],
            "metadata": {
                "id": "Lo5Sy78mGFbI",
                "executionInfo": {
                    "status": "ok",
                    "timestamp": 1641199353833,
                    "user_tz": -330,
                    "elapsed": 516,
                    "user": {
                        "displayName": "Pratik Pratik",
                        "photoUrl": "https://lh3.googleusercontent.com/a/default-user=s64",
                        "userId": "12834565355061124660"
                    }
                }
            },
            "execution_count": 15,
            "outputs": []
        },
        {
            "cell_type": "code",
            "source": [
                "encode_sent_1_represntation=model.encode(input_sentence1)\n",
                "encode_sent_2_represntation=model.encode(input_sentence2)"
            ],
            "metadata": {
                "id": "-PqyMhJiGsDV",
                "executionInfo": {
                    "status": "ok",
                    "timestamp": 1641199587481,
                    "user_tz": -330,
                    "elapsed": 508,
                    "user": {
                        "displayName": "Pratik Pratik",
                        "photoUrl": "https://lh3.googleusercontent.com/a/default-user=s64",
                        "userId": "12834565355061124660"
                    }
                }
            },
            "execution_count": 19,
            "outputs": []
        },
        {
            "cell_type": "code",
            "source": [
                "#Cosin similarity betwen two sentences\n",
                "\n",
                "cosine_similarity = util.pytorch_cos_sim(encode_sent_1_represntation,encode_sent_2_represntation)"
            ],
            "metadata": {
                "id": "udw23WkJG69l",
                "executionInfo": {
                    "status": "ok",
                    "timestamp": 1641199590502,
                    "user_tz": -330,
                    "elapsed": 7,
                    "user": {
                        "displayName": "Pratik Pratik",
                        "photoUrl": "https://lh3.googleusercontent.com/a/default-user=s64",
                        "userId": "12834565355061124660"
                    }
                }
            },
            "execution_count": 20,
            "outputs": []
        },
        {
            "cell_type": "code",
            "source": [
                "print(cosine_similarity)"
            ],
            "metadata": {
                "colab": {
                    "base_uri": "https://localhost:8080/"
                },
                "id": "flxuyRtjHjT8",
                "executionInfo": {
                    "status": "ok",
                    "timestamp": 1641199607005,
                    "user_tz": -330,
                    "elapsed": 4,
                    "user": {
                        "displayName": "Pratik Pratik",
                        "photoUrl": "https://lh3.googleusercontent.com/a/default-user=s64",
                        "userId": "12834565355061124660"
                    }
                },
                "outputId": "18d3fa2e-e171-491c-eb5b-755072fe52ab"
            },
            "execution_count": 21,
            "outputs": [
                {
                    "output_type": "stream",
                    "name": "stdout",
                    "text": [
                        "tensor([[0.7242]])\n"
                    ]
                }
            ]
        },
        {
            "cell_type": "markdown",
            "source": [
                "## **Check similar sentence out of list of sentences**"
            ],
            "metadata": {
                "id": "7Ut818imIBKe"
            }
        },
        {
            "cell_type": "code",
            "source": [
                "sentence_list = [                \n",
                "                'Artificial Intelligence is not a magic',\n",
                "                'Artificial Intelligence is a branch of computer science',\n",
                "                'Do you think AI will create havoc ?',\n",
                "                'AI is dangerous for humankind', \n",
                "                'Computer science latest invention is Artificial Intelligence and Quantum computing',\n",
                "                'Do you think Quantum computing will make AI more powerful ?',\n",
                "                 'NLP is a branch of Artificial Intelligence',\n",
                "              ]"
            ],
            "metadata": {
                "id": "jaP3_u-2ISaD",
                "executionInfo": {
                    "status": "ok",
                    "timestamp": 1641201149965,
                    "user_tz": -330,
                    "elapsed": 919,
                    "user": {
                        "displayName": "Pratik Pratik",
                        "photoUrl": "https://lh3.googleusercontent.com/a/default-user=s64",
                        "userId": "12834565355061124660"
                    }
                }
            },
            "execution_count": 66,
            "outputs": []
        },
        {
            "cell_type": "code",
            "source": [
                "input_sent = \"AI and NLP\" "
            ],
            "metadata": {
                "id": "xRXxC69pJEG6",
                "executionInfo": {
                    "status": "ok",
                    "timestamp": 1641201647455,
                    "user_tz": -330,
                    "elapsed": 3,
                    "user": {
                        "displayName": "Pratik Pratik",
                        "photoUrl": "https://lh3.googleusercontent.com/a/default-user=s64",
                        "userId": "12834565355061124660"
                    }
                }
            },
            "execution_count": 109,
            "outputs": []
        },
        {
            "cell_type": "code",
            "source": [
                "#input sentence represntation\n",
                "input_sent_repreesntation=model.encode(input_sent , convert_to_tensor=True)"
            ],
            "metadata": {
                "id": "ibzVfcKCJUt5",
                "executionInfo": {
                    "status": "ok",
                    "timestamp": 1641201649554,
                    "user_tz": -330,
                    "elapsed": 4,
                    "user": {
                        "displayName": "Pratik Pratik",
                        "photoUrl": "https://lh3.googleusercontent.com/a/default-user=s64",
                        "userId": "12834565355061124660"
                    }
                }
            },
            "execution_count": 110,
            "outputs": []
        },
        {
            "cell_type": "code",
            "source": [
                "#sentence list represntation\n",
                "sentence_list_repreesntation=model.encode(sentence_list , convert_to_tensor=True)"
            ],
            "metadata": {
                "id": "VZvREemEJlSa",
                "executionInfo": {
                    "status": "ok",
                    "timestamp": 1641201651472,
                    "user_tz": -330,
                    "elapsed": 4,
                    "user": {
                        "displayName": "Pratik Pratik",
                        "photoUrl": "https://lh3.googleusercontent.com/a/default-user=s64",
                        "userId": "12834565355061124660"
                    }
                }
            },
            "execution_count": 111,
            "outputs": []
        },
        {
            "cell_type": "code",
            "source": [
                "#Cosin similarity betwen sentences\n",
                "cosine_similarity = util.pytorch_cos_sim(input_sent_repreesntation,sentence_list_repreesntation)"
            ],
            "metadata": {
                "id": "Lx7LeM1ZJx-u",
                "executionInfo": {
                    "status": "ok",
                    "timestamp": 1641201654195,
                    "user_tz": -330,
                    "elapsed": 10,
                    "user": {
                        "displayName": "Pratik Pratik",
                        "photoUrl": "https://lh3.googleusercontent.com/a/default-user=s64",
                        "userId": "12834565355061124660"
                    }
                }
            },
            "execution_count": 112,
            "outputs": []
        },
        {
            "cell_type": "code",
            "source": [
                "cosine_similarity"
            ],
            "metadata": {
                "colab": {
                    "base_uri": "https://localhost:8080/"
                },
                "id": "_64gXrb2KHe9",
                "executionInfo": {
                    "status": "ok",
                    "timestamp": 1641201654832,
                    "user_tz": -330,
                    "elapsed": 6,
                    "user": {
                        "displayName": "Pratik Pratik",
                        "photoUrl": "https://lh3.googleusercontent.com/a/default-user=s64",
                        "userId": "12834565355061124660"
                    }
                },
                "outputId": "ac569b98-a034-489a-f091-f37038ec0cea"
            },
            "execution_count": 113,
            "outputs": [
                {
                    "output_type": "execute_result",
                    "data": {
                        "text/plain": [
                            "tensor([[0.4520, 0.4742, 0.4454, 0.5267, 0.2855, 0.2898, 0.7984]])"
                        ]
                    },
                    "metadata": {},
                    "execution_count": 113
                }
            ]
        },
        {
            "cell_type": "code",
            "source": [
                "import numpy as np\n",
                "print(\"Input sentence is : \" + input_sent)\n",
                "print(\"Similar sentence is : \" + sentence_list [np.argmax(cosine_similarity)] )"
            ],
            "metadata": {
                "colab": {
                    "base_uri": "https://localhost:8080/"
                },
                "id": "WCMh1IKhKIn8",
                "executionInfo": {
                    "status": "ok",
                    "timestamp": 1641201657429,
                    "user_tz": -330,
                    "elapsed": 4,
                    "user": {
                        "displayName": "Pratik Pratik",
                        "photoUrl": "https://lh3.googleusercontent.com/a/default-user=s64",
                        "userId": "12834565355061124660"
                    }
                },
                "outputId": "273a920b-c210-44ce-ecae-bfbbd7c2ec42"
            },
            "execution_count": 114,
            "outputs": [
                {
                    "output_type": "stream",
                    "name": "stdout",
                    "text": [
                        "Input sentence is : AI and NLP\n",
                        "Similar sentence is : NLP is a branch of Artificial Intelligence\n"
                    ]
                }
            ]
        },
        {
            "cell_type": "markdown",
            "source": [
                "**Try with another pre-trained model**"
            ],
            "metadata": {
                "id": "DQ4p80hWN9Fd"
            }
        },
        {
            "cell_type": "code",
            "source": [
                "Model_Name=\"all-MiniLM-L6-v2\"\n",
                "model = SentenceTransformer(Model_Name)"
            ],
            "metadata": {
                "id": "dF2Nao4sKNRK",
                "executionInfo": {
                    "status": "ok",
                    "timestamp": 1641201673466,
                    "user_tz": -330,
                    "elapsed": 11782,
                    "user": {
                        "displayName": "Pratik Pratik",
                        "photoUrl": "https://lh3.googleusercontent.com/a/default-user=s64",
                        "userId": "12834565355061124660"
                    }
                }
            },
            "execution_count": 115,
            "outputs": []
        },
        {
            "cell_type": "code",
            "source": [
                "#input sentence represntation\n",
                "input_sent_repreesntation=model.encode(input_sent , convert_to_tensor=True)\n",
                "#sentence list represntation\n",
                "sentence_list_repreesntation=model.encode(sentence_list , convert_to_tensor=True)"
            ],
            "metadata": {
                "id": "V8XlBtkAOVEB",
                "executionInfo": {
                    "status": "ok",
                    "timestamp": 1641201675154,
                    "user_tz": -330,
                    "elapsed": 5,
                    "user": {
                        "displayName": "Pratik Pratik",
                        "photoUrl": "https://lh3.googleusercontent.com/a/default-user=s64",
                        "userId": "12834565355061124660"
                    }
                }
            },
            "execution_count": 116,
            "outputs": []
        },
        {
            "cell_type": "code",
            "source": [
                "#Cosin similarity betwen sentences\n",
                "cosine_similarity = util.pytorch_cos_sim(input_sent_repreesntation,sentence_list_repreesntation)"
            ],
            "metadata": {
                "id": "bkg1rc4VOejT",
                "executionInfo": {
                    "status": "ok",
                    "timestamp": 1641201675155,
                    "user_tz": -330,
                    "elapsed": 5,
                    "user": {
                        "displayName": "Pratik Pratik",
                        "photoUrl": "https://lh3.googleusercontent.com/a/default-user=s64",
                        "userId": "12834565355061124660"
                    }
                }
            },
            "execution_count": 117,
            "outputs": []
        },
        {
            "cell_type": "code",
            "source": [
                "import numpy as np\n",
                "print(\"Input sentence is : \" + input_sent)\n",
                "print(\"Similar sentence is : \" + sentence_list [np.argmax(cosine_similarity)] )"
            ],
            "metadata": {
                "colab": {
                    "base_uri": "https://localhost:8080/"
                },
                "id": "cVJ66V_qOhiI",
                "executionInfo": {
                    "status": "ok",
                    "timestamp": 1641201675155,
                    "user_tz": -330,
                    "elapsed": 4,
                    "user": {
                        "displayName": "Pratik Pratik",
                        "photoUrl": "https://lh3.googleusercontent.com/a/default-user=s64",
                        "userId": "12834565355061124660"
                    }
                },
                "outputId": "7c652610-6d65-4301-c106-58b159dd41c7"
            },
            "execution_count": 118,
            "outputs": [
                {
                    "output_type": "stream",
                    "name": "stdout",
                    "text": [
                        "Input sentence is : AI and NLP\n",
                        "Similar sentence is : NLP is a branch of Artificial Intelligence\n"
                    ]
                }
            ]
        }
    ]
}
